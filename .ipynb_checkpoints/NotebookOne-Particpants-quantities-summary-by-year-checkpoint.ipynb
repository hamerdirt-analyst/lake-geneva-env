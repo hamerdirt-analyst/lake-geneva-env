{
 "cells": [
  {
   "cell_type": "markdown",
   "metadata": {},
   "source": [
    "### Three year summary Lake Geneva\n",
    "\n",
    "#### Notebook 1\n",
    "\n",
    "__Purpose:__ Present an analysis method for survey results from beach litter inventories on Lake Geneva.\n",
    "\n",
    "__Background:__ This is in the context of the global movement to reduce plastic debris in the maritime environment. Riverine inputs are major contributors of plastic debris (and all types of refuse) to the oceans. This is an analysis of the data collected on the shores of Lake Geneva over a three year period. The maritime protocol was modified in very specific ways to adjust for the local geography and population density.\n",
    "\n",
    "#### Research question: Is this a representative sample ?\n",
    "\n",
    "There is a push to quantify the amounts of plastic trash in the environment. It would be impossible to pick up every piece of trash in the environment and count it (that would solve the problem though). Extrapolating from economic and population data is one way to obtain a macro-view of the problem. But the margin of error on these type of calculations makes them unsuitable for identifying trends on a local or regional level.\n",
    "\n",
    "If sampling all the trash is not possibile, what if we sample as much as possible and see what that looks like? The following questions could be answered:\n",
    "\n",
    "1. What does the distribution of survey results look like?\n",
    "2. Do different groups of people produce different survey results?\n",
    "3. How different are the survey results from one location to another?\n",
    "4. What are the most abundant objects?\n",
    "5. How different are the survey results year over year?\n",
    "\n",
    "These series of notebooks will try to answer those questions. "
   ]
  },
  {
   "cell_type": "code",
   "execution_count": 1,
   "metadata": {},
   "outputs": [],
   "source": [
    "# import numpy as np\n",
    "import json\n",
    "import csv\n",
    "import datetime\n",
    "import collections\n",
    "# import pandas as pd\n",
    "import matplotlib as mpl\n",
    "import matplotlib.pyplot as plt\n",
    "import folium\n",
    "import geopandas\n",
    "import os\n",
    "import seaborn as sns\n",
    "import matplotlib.dates as mdates\n",
    "from matplotlib import colors as mcolors\n",
    "from matplotlib.ticker import MultipleLocator\n",
    "import matplotlib.patches as mpatch\n",
    "from matplotlib.lines import Line2D\n",
    "from Utilities.utility_functions import *\n",
    "idx = pd.IndexSlice"
   ]
  },
  {
   "cell_type": "code",
   "execution_count": 2,
   "metadata": {},
   "outputs": [
    {
     "name": "stdout",
     "output_type": "stream",
     "text": [
      "Directory already in place\n"
     ]
    }
   ],
   "source": [
    "# The data is off of the API at https://mwshovel.pythonanywhere.com/dirt/api_home.html \n",
    "# You will have the opportunity to save the data locally\n",
    "# get some file structures in place\n",
    "\n",
    "# Required variables:\n",
    "folders = [\"Data\", \"Charts\", \"Utilities\"]\n",
    "here = os.getcwd()\n",
    "\n",
    "# check for existing and if not make folders\n",
    "check_for_folders(folders, here)\n",
    "\n",
    "# make a dictionary to call path by directory name\n",
    "my_folders = make_folders(folders, here)"
   ]
  },
  {
   "cell_type": "code",
   "execution_count": 3,
   "metadata": {},
   "outputs": [
    {
     "data": {
      "text/plain": [
       "array(['anarchy-beach', 'arabie', 'baby-plage-geneva', 'bain-des-dames',\n",
       "       'baye-de-clarens', 'baye-de-montreux-d', 'baye-de-montreux-g',\n",
       "       'boiron', 'grand-clos', 'jardin-botanique', 'la-morges',\n",
       "       'lac-leman-hammerdirt', 'lacleman_gland_kubela',\n",
       "       'lacleman_gland_lecoanets', 'lacleman_vidy_santie', 'le-pierrier',\n",
       "       'le-port', 'maladaire', 'oyonne', 'parc-des-pierrettes',\n",
       "       'pierrier-sud', 'plage-de-dorigny', 'plage-de-st-sulpice',\n",
       "       'preverenges', 'quai-maria-belgia', 'rolle-plage', 'saint-sulpice',\n",
       "       'thonnon-les-bains', 'tiger-duck-beach', 'versoix', 'veveyse',\n",
       "       'vidy', 'villa-barton'], dtype=object)"
      ]
     },
     "execution_count": 3,
     "metadata": {},
     "output_type": "execute_result"
    }
   ],
   "source": [
    "import requests\n",
    "a = requests.get(\"https://mwshovel.pythonanywhere.com/api/list-of-beaches/\")\n",
    "all_beaches = a.json()\n",
    "b = pd.DataFrame(all_beaches)\n",
    "b = b.loc[b.water_name_slug == \"lac-leman\"]\n",
    "beach_slugs = b.slug.values\n",
    "beach_slugs"
   ]
  },
  {
   "cell_type": "code",
   "execution_count": 4,
   "metadata": {},
   "outputs": [],
   "source": [
    "# c = requests.get(\"https://mwshovel.pythonanywhere.com/api/surveys/daily-totals/code-totals/\")\n",
    "# mcbp = [\n",
    "#     'anarchy-beach',\n",
    "#     'arabie',\n",
    "#     'bain-des-dames',\n",
    "#     'baye-de-clarens',\n",
    "#     'baye-de-montreux-d',\n",
    "#     'baye-de-montreux-g',\n",
    "#     'boiron',\n",
    "#     'grand-clos',\n",
    "#     'jardin-botanique',\n",
    "#     'la-morges',\n",
    "#     'le-pierrier',\n",
    "#     'le-port',\n",
    "#     'maladaire',\n",
    "#     'oyonne',    \n",
    "#     'pierrier-sud',\n",
    "#     'plage-de-dorigny',    \n",
    "#     'quai-maria-belgia',    \n",
    "#     'thonnon-les-bains',    \n",
    "#     'versoix',\n",
    "#     'veveyse',\n",
    "#     'vidy',\n",
    "#     'villa-barton'    \n",
    "# ]\n",
    "# precious = [\n",
    "#     'preverenges',\n",
    "    \n",
    "# ]\n",
    "# slr =[\n",
    "#     'lac-leman-hammerdirt',\n",
    "#     'lacleman_gland_kubela',\n",
    "#     'lacleman_gland_lecoanets',\n",
    "#     'lacleman_vidy_santie',    \n",
    "# ]\n",
    "# epfl = [\n",
    "#     'tiger-duck-beach',\n",
    "#     'rolle-plage',\n",
    "#     'saint-sulpice',\n",
    "#     'parc-des-pierrettes',\n",
    "#     'plage-de-st-sulpice',    \n",
    "# ]\n",
    "# totals = c.json()\n",
    "# def just_lac_leman(a_list, some_records):\n",
    "#     new_records = []\n",
    "#     for data in some_records:\n",
    "#         if data['location'] in a_list:\n",
    "#             for record in data['dailyTotals']:\n",
    "#                 record['location_id'] = data['location']\n",
    "#                 record['code_id'] = record['code']\n",
    "#                 new_records.append(record)\n",
    "#     return new_records\n",
    "                \n",
    "# d = just_lac_leman(beach_slugs, totals)\n",
    "\n",
    "# def add_project_location(an_array):\n",
    "#     new_records = []\n",
    "#     for data in an_array:\n",
    "#         if data['location_id'] in mcbp:\n",
    "#             data['project_id'] = \"MCBP\"\n",
    "#         elif data['location_id'] in slr:\n",
    "#             data['project_id'] = \"SLR\"\n",
    "#         elif data['location_id'] in epfl:\n",
    "#             data['project_id'] = \"EPFL\"\n",
    "#         elif data['location_id'] in precious:\n",
    "#             data['project_id'] = \"PC\"\n",
    "#         new_records.append(data)\n",
    "#     return new_records\n",
    "# e = add_project_location(d)"
   ]
  },
  {
   "cell_type": "code",
   "execution_count": 5,
   "metadata": {},
   "outputs": [],
   "source": [
    "# file_name = here + '/Data/'+\"all_data\"+ \".json\"\n",
    "# with open(file_name, 'w') as outfile:\n",
    "#             json.dump(e, outfile)"
   ]
  },
  {
   "cell_type": "code",
   "execution_count": 6,
   "metadata": {},
   "outputs": [],
   "source": [
    "# backtojson = b.to_dict(orient='records')\n",
    "# file_name = here + '/Data/'+\"beach_info\"+ \".json\"\n",
    "# with open(file_name, 'w') as outfile:\n",
    "#             json.dump(backtojson, outfile)"
   ]
  },
  {
   "cell_type": "code",
   "execution_count": 7,
   "metadata": {},
   "outputs": [],
   "source": [
    "# Read the JSON data in from local\n",
    "# there is no need to hit the server a million times\n",
    "\n",
    "# required variables\n",
    "the_jsons = [\n",
    "    '/home/mw-shovel/three_year_final/Data/beach_info.json',\n",
    "    '/home/mw-shovel/three_year_final/Data/all_data.json'\n",
    "]\n",
    "\n",
    "# all the survey results by code, location, date, project:\n",
    "my_survey_results = jsonFileGet(the_jsons[1])\n",
    "# def changeProjectName(aList, otherList, projectName):\n",
    "#     aNewList = []   \n",
    "#     for eachDict in aList:       \n",
    "#         if eachDict[\"location\"] in otherList:\n",
    "#             eachDict['project_id'] = projectName\n",
    "#             aNewList.append(eachDict)\n",
    "#         else:\n",
    "#             aNewList.append(eachDict)\n",
    "#     return aNewList\n",
    "            \n",
    "# location_list = [\"Plage-de-St-Sulpice\", \"Parc-des-Pierrettes\",  \"Tiger-duck-beach\", \"Saint-Sulpice\"]\n",
    "# project_name = \"tiger-duck\"\n",
    "# my_survey_resultsx = changeProjectName(my_survey_results, location_list, project_name)\n",
    "\n",
    "# all the location information:\n",
    "beach_info = jsonFileGet(the_jsons[0])\n",
    "\n",
    "# make a data frame:\n",
    "the_survey_results = pd.DataFrame(my_survey_results)    "
   ]
  },
  {
   "cell_type": "code",
   "execution_count": 8,
   "metadata": {},
   "outputs": [],
   "source": [
    "# making a pcs/m column:\n",
    "# the_survey_results[\"pcs_m\"] = the_survey_results[\"quantity\"]/the_survey_results[\"length\"]\n",
    "\n",
    "# making a month, day and year column from a datetime object\n",
    "# makes sorting easier\n",
    "the_survey_results[\"py_date\"] = pd.to_datetime(the_survey_results[\"date\"])\n",
    "the_survey_results[\"py_month\"] = the_survey_results[\"py_date\"].dt.month\n",
    "the_survey_results[\"py_year\"] = the_survey_results[\"py_date\"].dt.year\n",
    "the_survey_results[\"py_day\"] = the_survey_results[\"py_date\"].dt.weekday"
   ]
  },
  {
   "cell_type": "code",
   "execution_count": 9,
   "metadata": {},
   "outputs": [],
   "source": [
    "#### one df for abundance and one df for density:\n",
    "abundance = the_survey_results[[\"project_id\", \"location_id\", \"date\",\"py_date\", \"py_month\", \"py_year\", \"code_id\", \"quantity\"]].copy()\n",
    "density = the_survey_results[[\"project_id\", \"location_id\", \"date\",\"py_date\", \"py_day\",\"py_month\", \"py_year\", \"code_id\", \"pcs_m\"]].copy()  "
   ]
  },
  {
   "cell_type": "code",
   "execution_count": 10,
   "metadata": {},
   "outputs": [],
   "source": [
    "year_one_end_start = convertStringToDate([(\"2015-11-15\", \"2016-11-14\")])\n",
    "year_two_end_start = convertStringToDate([(\"2016-11-15\", \"2017-11-14\")])\n",
    "year_three_end_start=convertStringToDate([(\"2017-11-15\", \"2018-11-14\")])\n",
    "project_start_end = convertStringToDate([(\"2015-11-15\", \"2018-11-14\")])\n",
    "start_date = datetime.datetime.strptime(\"2015-11-15\", \"%Y-%m-%d\")\n",
    "end_date = datetime.datetime.strptime(\"2018-11-14\", \"%Y-%m-%d\")\n",
    "project_names = abundance.project_id.unique()\n",
    "def getAnnualSummaries(aList, aDf):\n",
    "    local = aDf.index.get_level_values('project_id')\n",
    "    projects = [x for x in aList if x in local]\n",
    "    out_put = {}\n",
    "    for name in projects:\n",
    "        the_df = aDf.loc[idx[name,:,:],:]\n",
    "        the_summary = the_df.describe()\n",
    "        the_total = the_df.quantity.sum()\n",
    "        the_dict = dict(\n",
    "            project=name,\n",
    "            data=the_df,\n",
    "            summary=the_summary,\n",
    "            the_total=the_total\n",
    "        )\n",
    "        out_put.update({name:the_dict})\n",
    "    combined = dict(\n",
    "        project='All',\n",
    "        data=aDf,\n",
    "        the_total=aDf.quantity.sum(),\n",
    "        summary=aDf.describe()\n",
    "    )\n",
    "    out_put.update({'All':combined})\n",
    "    return out_put"
   ]
  },
  {
   "cell_type": "markdown",
   "metadata": {},
   "source": [
    "### Results: Number of samples, sample locations, profile of participants...\n",
    "\n",
    "#### Samples grouped by participants\n",
    "\n",
    "There were/are many groups on the lake shore concerned by this problem. The data originates from five distinct groups:\n",
    "\n",
    "1. Students from École interantionale de Genève\n",
    "2. Students from The EPFL Solid waste engineering course\n",
    "3. Members of the World Wildlife Fund and or STOPPP\n",
    "4. Members of hammerdirt\n",
    "5. Members of Precious Collect Léman\n",
    "\n",
    "__How are the observations similar or different when sorted by group membership?__ The sampling method and conditions leave alot of responsibiliyt to the sampler. What a persons \"sees\" and how fatigue and environmental conditions effect an individuals attention to detail and motivation are variables that are part of the sampling process.\n",
    "\n",
    "Following a protocol and educating surveyors should minimise the effects of those variables. None the less the effects are real and they may have an impact on the results. "
   ]
  },
  {
   "cell_type": "code",
   "execution_count": 11,
   "metadata": {},
   "outputs": [],
   "source": [
    "project_data = abundance[\n",
    "    (abundance.py_date >= start_date) & (abundance.py_date <= end_date)]\n",
    "daily_quantity = project_data[\n",
    "    [\"project_id\", \"location_id\",\"py_date\",\"quantity\"]].groupby(\n",
    "    [\"project_id\", \"location_id\",\"py_date\"]).sum()"
   ]
  },
  {
   "cell_type": "markdown",
   "metadata": {},
   "source": [
    "### All data  Nov 2015 - Nov 2018"
   ]
  },
  {
   "cell_type": "code",
   "execution_count": 12,
   "metadata": {},
   "outputs": [],
   "source": [
    "all_data_summary = getAnnualSummaries(project_names,daily_quantity)   "
   ]
  },
  {
   "cell_type": "code",
   "execution_count": 13,
   "metadata": {},
   "outputs": [],
   "source": [
    "def getRows(aDf, rows):\n",
    "    the_dict = aDf.to_dict()[\"quantity\"]\n",
    "    the_keys = list(the_dict.keys())\n",
    "    for name in the_keys:\n",
    "        if name in rows.keys():\n",
    "            if name in [\"mean\", \"50%\", \"75%\", \"25%\"]:\n",
    "                val = np.round(the_dict[name], 2)\n",
    "                rows[name].append(val)\n",
    "            else:\n",
    "                val = int(the_dict[name])\n",
    "                rows[name].append(val)\n",
    "        else:\n",
    "            if name in [\"mean\", \"50%\", \"75%\", \"25%\"]:\n",
    "                val = np.round(the_dict[name], 2)\n",
    "                rows[name] = [val]\n",
    "            else:\n",
    "                val = int(the_dict[name])\n",
    "                rows[name] = [val]\n",
    "def getTotals(aDict, rows):\n",
    "    if \"total-pcs\" in rows.keys():\n",
    "        rows[\"total-pcs\"].append(aDict[\"the_total\"])\n",
    "    else:\n",
    "        rows[\"total-pcs\"] = [aDict[\"the_total\"]]\n",
    "def makeRows(aDict):\n",
    "    rows={}\n",
    "    header = list(aDict.keys())\n",
    "    for values in aDict:\n",
    "        getRows(aDict[values][\"summary\"], rows)\n",
    "        getTotals(aDict[values],rows)\n",
    "    return rows, header\n",
    "the_rows, header = makeRows(all_data_summary)"
   ]
  },
  {
   "cell_type": "code",
   "execution_count": 14,
   "metadata": {},
   "outputs": [
    {
     "data": {
      "text/plain": [
       "{'count': [6, 107, 2, 33, 148],\n",
       " 'mean': [876.83, 380.1, 108.5, 150.61, 345.4],\n",
       " 'std': [714, 347, 51, 176, 364],\n",
       " 'min': [147, 37, 72, 5, 5],\n",
       " '25%': [366.75, 146.5, 90.25, 37.0, 114.0],\n",
       " '50%': [720.5, 285.0, 108.5, 87.0, 232.5],\n",
       " '75%': [1227.25, 507.0, 126.75, 224.0, 418.25],\n",
       " 'max': [2028, 2003, 145, 853, 2028],\n",
       " 'total-pcs': [5261, 40671, 217, 4970, 51119]}"
      ]
     },
     "execution_count": 14,
     "metadata": {},
     "output_type": "execute_result"
    }
   ],
   "source": [
    "the_rows"
   ]
  },
  {
   "cell_type": "code",
   "execution_count": 15,
   "metadata": {
    "code_folding": [],
    "scrolled": false
   },
   "outputs": [
    {
     "data": {
      "image/png": "[encoded data removed]",
      "text/plain": [
       "<Figure size 612x432 with 1 Axes>"
      ]
     },
     "metadata": {
      "needs_background": "light"
     },
     "output_type": "display_data"
    }
   ],
   "source": [
    "def headerCell(label_s, label, header_bottom, ax):\n",
    "    header_cell = mpatch.Rectangle(\n",
    "            (label_s,header_bottom),\n",
    "            .18, .1, alpha=1, facecolor=\"royalblue\", edgecolor= \"royalblue\")\n",
    "    rx, ry = header_cell.get_xy()\n",
    "    cx = rx + header_cell.get_width()/2.0\n",
    "    cy = ry + header_cell.get_height()/2.0\n",
    "    ax.add_patch(header_cell)\n",
    "    ax.annotate(label, (cx, cy), color='w', weight='bold', \n",
    "            fontsize=12, ha='center', va='center')\n",
    "def tableCell(label_s, label, row_height, faceColor, edgeColor, fontColor, fontWeight, alpha, ax):\n",
    "    table_cell = mpatch.Rectangle(\n",
    "        (label_s,row_height),\n",
    "        .18, .1, alpha=1, facecolor=faceColor, edgecolor=edgeColor)\n",
    "    rx, ry = table_cell.get_xy()\n",
    "    cx = rx + table_cell.get_width()/2.0\n",
    "    cy = ry + table_cell.get_height()/2.0\n",
    "    ax.add_patch(table_cell)\n",
    "    ax.annotate(label, (cx, cy), color=fontColor, weight=fontWeight, \n",
    "            fontsize=12, ha='center', va='center')\n",
    "def rowHeader(label_s, label, row_height,faceColor, edgeColor, alpha, ax):\n",
    "    table_cell = mpatch.Rectangle(\n",
    "        (label_s,row_height),\n",
    "        .12, .1, alpha=1, facecolor=faceColor, edgecolor= edgeColor)\n",
    "    rx, ry = table_cell.get_xy()\n",
    "    cx = rx + table_cell.get_width()/2.0\n",
    "    cy = ry + table_cell.get_height()/2.0\n",
    "    ax.add_patch(table_cell)\n",
    "    ax.annotate(label, (cx, cy), color='b', weight='normal', \n",
    "            fontsize=12, ha='right', va='center')  \n",
    "\n",
    "def makeTable(header, the_rows, header_bottom):\n",
    "    fig = plt.figure(figsize=(8.5,6))\n",
    "    ax = fig.add_subplot(111)\n",
    "    header_bottom=.88\n",
    "    cell_width = .18\n",
    "    for i,label in enumerate(header):\n",
    "        if i == 0:\n",
    "            label_start = .1\n",
    "            headerCell(label_start, label,header_bottom, ax)\n",
    "        else:\n",
    "            label_start = .1 + (i*.18)\n",
    "            headerCell(label_start, label,header_bottom, ax)\n",
    "    for k,x in enumerate(the_rows):\n",
    "        cell_height=.095\n",
    "        label_start = .1\n",
    "        cell_width = .18\n",
    "        if k == 0:\n",
    "            row_height = header_bottom-cell_height        \n",
    "            for j,value in enumerate(the_rows[x]):\n",
    "                if j == 0:                \n",
    "                    label_start = .1\n",
    "                    tableCell(\n",
    "                        label_start,\n",
    "                        value,\n",
    "                        row_height,\n",
    "                        \"none\",\n",
    "                        \"royalblue\",\n",
    "                        \"royalblue\",\n",
    "                        \"normal\",\n",
    "                        1, ax)\n",
    "\n",
    "                else:\n",
    "                    label_start = .1 + (j*cell_width)\n",
    "                    tableCell(\n",
    "                        label_start,\n",
    "                        value,\n",
    "                        row_height,\n",
    "                        \"none\",\n",
    "                        \"royalblue\",\n",
    "                        \"royalblue\",\n",
    "                        \"normal\",\n",
    "                        1, ax)\n",
    "        else:\n",
    "            row_height = header_bottom-cell_height-(cell_height*k)\n",
    "            if k%2 != 0:        \n",
    "                for j,value in enumerate(the_rows[x]):\n",
    "                    if j == 0:\n",
    "                        label_start = .1\n",
    "                        tableCell(\n",
    "                            label_start,\n",
    "                            value,\n",
    "                            row_height,\n",
    "                            \"royalblue\",\n",
    "                            \"royalblue\",\n",
    "                            \"white\",\n",
    "                            \"normal\",\n",
    "                            1, ax\n",
    "                        )\n",
    "                    else:\n",
    "                        label_start = .1 + (j*cell_width)\n",
    "                        tableCell(\n",
    "                            label_start,\n",
    "                            value,\n",
    "                            row_height,\n",
    "                            \"royalblue\",\n",
    "                            \"royalblue\",\n",
    "                            \"white\",\n",
    "                            \"normal\",\n",
    "                            1, ax\n",
    "                        )\n",
    "            else:\n",
    "                for j,value in enumerate(the_rows[x]):\n",
    "                    if j == 0:\n",
    "                        label_start = .1\n",
    "                        tableCell(\n",
    "                            label_start,\n",
    "                            value,\n",
    "                            row_height,\n",
    "                            \"none\",\n",
    "                            \"royalblue\",\n",
    "                            \"royalblue\",\n",
    "                            \"normal\",\n",
    "                            1, ax\n",
    "                        )\n",
    "                    else:\n",
    "                        label_start = .1 + (j*cell_width)\n",
    "                        tableCell(\n",
    "                            label_start,\n",
    "                            value,\n",
    "                            row_height,\n",
    "                            \"none\",\n",
    "                            \"royalblue\",\n",
    "                            \"royalblue\",\n",
    "                            \"normal\",\n",
    "                            1, ax\n",
    "                        )\n",
    "    for n,x in enumerate(list(the_rows.keys())):\n",
    "        label_start = .01\n",
    "        cell_height=.095\n",
    "        if n == 0:\n",
    "            row_height = header_bottom-cell_height  \n",
    "            rowHeader(label_start, x, row_height,\"none\", \"none\", 1, ax)   \n",
    "        else:\n",
    "            row_height = header_bottom-cell_height-(cell_height*n)\n",
    "            rowHeader(label_start, x,row_height, \"none\", \"none\", 1, ax) \n",
    "\n",
    "    ax.axis(\"off\")\n",
    "    plt.show()\n",
    "makeTable(header, the_rows, .88)"
   ]
  },
  {
   "cell_type": "markdown",
   "metadata": {},
   "source": [
    "### Year one Nov 2015 - Nov 2016"
   ]
  },
  {
   "cell_type": "code",
   "execution_count": 16,
   "metadata": {},
   "outputs": [
    {
     "data": {
      "image/png": "[encoded data removed]",
      "text/plain": [
       "<Figure size 612x432 with 1 Axes>"
      ]
     },
     "metadata": {
      "needs_background": "light"
     },
     "output_type": "display_data"
    }
   ],
   "source": [
    "year_one_data = daily_quantity.loc[idx[:,:,year_one_end_start[0][0]:year_one_end_start[0][1]], :]\n",
    "projct_names = list(year_one_data.index.get_level_values(0))\n",
    "all_data_summary = getAnnualSummaries(project_names,year_one_data)\n",
    "the_rows, header = makeRows(all_data_summary)\n",
    "makeTable(header, the_rows, .88)"
   ]
  },
  {
   "cell_type": "markdown",
   "metadata": {},
   "source": [
    "### Year two Nov 2016 - Nov 2017"
   ]
  },
  {
   "cell_type": "code",
   "execution_count": 17,
   "metadata": {},
   "outputs": [
    {
     "data": {
      "image/png": "[encoded data removed]",
      "text/plain": [
       "<Figure size 612x432 with 1 Axes>"
      ]
     },
     "metadata": {
      "needs_background": "light"
     },
     "output_type": "display_data"
    }
   ],
   "source": [
    "year_two_data = daily_quantity.loc[idx[:,:,year_two_end_start[0][0]:year_two_end_start[0][1]], :]\n",
    "projct_names = list(year_two_data.index.get_level_values(0))\n",
    "all_data_summary = getAnnualSummaries(project_names,year_two_data)\n",
    "the_rows, header = makeRows(all_data_summary)\n",
    "makeTable(header, the_rows, .88)"
   ]
  },
  {
   "cell_type": "markdown",
   "metadata": {},
   "source": [
    "### Year three Nov 2017 - Nov 2018"
   ]
  },
  {
   "cell_type": "code",
   "execution_count": 18,
   "metadata": {},
   "outputs": [
    {
     "data": {
      "image/png": "[encoded data removed]",
      "text/plain": [
       "<Figure size 612x432 with 1 Axes>"
      ]
     },
     "metadata": {
      "needs_background": "light"
     },
     "output_type": "display_data"
    }
   ],
   "source": [
    "year_three_data = daily_quantity.loc[idx[:,:,year_three_end_start[0][0]:year_three_end_start[0][1]], :]\n",
    "projct_names = list(year_three_data.index.get_level_values(0))\n",
    "all_data_summary = getAnnualSummaries(project_names,year_three_data)\n",
    "the_rows, header = makeRows(all_data_summary)\n",
    "makeTable(header, the_rows, .88)"
   ]
  },
  {
   "cell_type": "code",
   "execution_count": null,
   "metadata": {},
   "outputs": [],
   "source": []
  }
 ],
 "metadata": {
  "hide_input": false,
  "kernelspec": {
   "display_name": "Python 3",
   "language": "python",
   "name": "python3"
  },
  "language_info": {
   "codemirror_mode": {
    "name": "ipython",
    "version": 3
   },
   "file_extension": ".py",
   "mimetype": "text/x-python",
   "name": "python",
   "nbconvert_exporter": "python",
   "pygments_lexer": "ipython3",
   "version": "3.7.0"
  }
 },
 "nbformat": 4,
 "nbformat_minor": 2
}
