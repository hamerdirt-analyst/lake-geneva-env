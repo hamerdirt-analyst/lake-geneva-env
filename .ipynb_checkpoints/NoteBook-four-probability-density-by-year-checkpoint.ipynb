{
 "cells": [
  {
   "cell_type": "markdown",
   "metadata": {},
   "source": [
    "### Three year summary Lake Geneva\n",
    "\n",
    "#### Notebook 4\n",
    "\n",
    "__Purpose:__ Present an analysis method for survey results from beach litter inventories on Lake Geneva.\n",
    "\n",
    "__Background:__ This is in the context of the global movement to reduce plastic debris in the maritime environment. Riverine inputs are major contributors of plastic debris (and all types of refuse) to the oceans. This is an analysis of the data collected on the shores of Lake Geneva over a three year period. The maritime protocol was modified in very specific ways to adjust for the local geography and population density.\n",
    "\n",
    "#### Research question: Is this a representative sample ?\n",
    "\n",
    "##### from notebook one we can assume the following:\n",
    "\n",
    "1. The data was collected at different locations\n",
    "2. The data was collected by different groups of people\n",
    "3. For each year there is one group that collected 50% or more of the samples\n",
    "4. The average total number of objects found is greater than the median for all groups\n",
    "\n",
    "##### from notebook two :\n",
    "\n",
    "1. The cumalitve average of pcs/m is greater than the median\n",
    "2. For each year the average of pcs/m is greater than the median\n",
    "3. The median value year over year is 4.24 < x < 6.84\n",
    "4. There may be a negative correlation between number of samples and standard deviation\n",
    "5. That different groups report similar results\n",
    "\n",
    "##### from notebook three:\n",
    "\n",
    "1. That the seven most frequently indentified objects are relatively constant\n",
    "\n",
    "\n",
    "If sampling all the trash is not possibile, what if we sample as much as possible and see what that looks like? The following questions could be answered:\n",
    "\n",
    "1. What does the distribution of survey results look like?\n",
    "2. Do different groups of people produce different survey results?\n",
    "3. How different are the survey results from one location to another?\n",
    "4. What are the most abundant objects?\n",
    "5. How different are the survey results year over year?\n",
    "\n",
    "#### From Notebook 1 IMPORTANT!\n",
    "\n",
    "_In notebook one the conclusion was that the data has different geographic centers and those centers reflect different land use patterns._\n",
    "\n",
    "_The data is now local so it is allways best to run notebook one first_\n",
    "\n",
    "_This notebook and all subsequent use the directory establsihed in notebook one (see above)_\n",
    "\n"
   ]
  },
  {
   "cell_type": "code",
   "execution_count": 1,
   "metadata": {
    "hide_input": true,
    "scrolled": true
   },
   "outputs": [],
   "source": [
    "# import numpy as np\n",
    "import json\n",
    "import csv\n",
    "import datetime\n",
    "import collections\n",
    "# import pandas as pd\n",
    "import matplotlib as mpl\n",
    "import matplotlib.pyplot as plt\n",
    "import os\n",
    "import seaborn as sns\n",
    "import matplotlib.dates as mdates\n",
    "from matplotlib import colors as mcolors\n",
    "from matplotlib.ticker import MultipleLocator\n",
    "from matplotlib.patches import Patch\n",
    "from matplotlib.lines import Line2D\n",
    "from Utilities.utility_functions import *"
   ]
  },
  {
   "cell_type": "code",
   "execution_count": 2,
   "metadata": {
    "hide_input": true,
    "scrolled": true
   },
   "outputs": [
    {
     "name": "stdout",
     "output_type": "stream",
     "text": [
      "Directory already in place\n"
     ]
    }
   ],
   "source": [
    "# The data is off of the API at https://mwshovel.pythonanywhere.com/dirt/api_home.html \n",
    "# You will have the opportunity to save the data locally\n",
    "# get some file structures in place\n",
    "\n",
    "# Required variables:\n",
    "folders = [\"Data\", \"Charts\", \"Utilities\"]\n",
    "here = os.getcwd()\n",
    "\n",
    "# check for existing and if not make folders\n",
    "check_for_folders(folders, here)\n",
    "\n",
    "# make a dictionary to call path by directory name\n",
    "my_folders = make_folders(folders, here)"
   ]
  },
  {
   "cell_type": "markdown",
   "metadata": {
    "hide_input": true
   },
   "source": [
    "#### Read in the json data"
   ]
  },
  {
   "cell_type": "code",
   "execution_count": 3,
   "metadata": {
    "hide_input": true,
    "scrolled": true
   },
   "outputs": [],
   "source": [
    "# Read the JSON data in from local\n",
    "# there is no need to hit the server a million times\n",
    "\n",
    "# required variables\n",
    "the_jsons = [\n",
    "    '/home/mw-shovel/three_year_final/Data/beach_info.json',\n",
    "    '/home/mw-shovel/three_year_final/Data/all_data.json'\n",
    "]\n",
    "\n",
    "idx = pd.IndexSlice\n",
    "# all the survey results by code, location, date, project:\n",
    "my_survey_results = jsonFileGet(the_jsons[1])\n",
    "def changeProjectName(aList, otherList, projectName):\n",
    "    aNewList = []   \n",
    "    for eachDict in aList:       \n",
    "        if eachDict[\"location_id\"] in otherList:\n",
    "            eachDict['project_id'] = projectName\n",
    "            aNewList.append(eachDict)\n",
    "        else:\n",
    "            aNewList.append(eachDict)\n",
    "    return aNewList\n",
    "            \n",
    "location_list = [\"Plage-de-St-Sulpice\", \"Parc-des-Pierrettes\",  \"Tiger-duck-beach\", \"Saint-Sulpice\"]\n",
    "project_name = \"tiger-duck\"\n",
    "my_survey_resultsx = changeProjectName(my_survey_results, location_list, project_name)\n",
    "\n",
    "# all the location information:\n",
    "beach_info = jsonFileGet(the_jsons[0])\n",
    "\n",
    "# make a data frame:\n",
    "the_survey_results = pd.DataFrame(my_survey_resultsx)    "
   ]
  },
  {
   "cell_type": "markdown",
   "metadata": {},
   "source": [
    "#### Make pcs/m, make grouping levels"
   ]
  },
  {
   "cell_type": "code",
   "execution_count": 4,
   "metadata": {
    "hide_input": true,
    "scrolled": true
   },
   "outputs": [],
   "source": [
    "# making a pcs/m column:\n",
    "\n",
    "the_survey_results[\"pcs_m\"] = the_survey_results[\"quantity\"]/the_survey_results[\"length\"]\n",
    "\n",
    "# making a month, day and year column from a datetime object\n",
    "# makes sorting easier\n",
    "the_survey_results[\"py_date\"] = pd.to_datetime(the_survey_results[\"date\"])\n",
    "the_survey_results[\"py_month\"] = the_survey_results[\"py_date\"].dt.month\n",
    "the_survey_results[\"py_year\"] = the_survey_results[\"py_date\"].dt.year\n",
    "the_survey_results[\"py_day\"] = the_survey_results[\"py_date\"].dt.weekday"
   ]
  },
  {
   "cell_type": "code",
   "execution_count": 5,
   "metadata": {
    "hide_input": true,
    "scrolled": true
   },
   "outputs": [],
   "source": [
    "#### one df for abundance and one df for density:\n",
    "abundance = the_survey_results[[\"project_id\", \"location_id\", \"date\",\"py_date\", \"py_month\", \"py_year\", \"code_id\", \"quantity\"]].copy()\n",
    "density = the_survey_results[[\"project_id\", \"location_id\", \"date\",\"py_date\", \"py_day\",\"py_month\", \"py_year\", \"code_id\", \"pcs_m\"]].copy()  "
   ]
  },
  {
   "cell_type": "markdown",
   "metadata": {},
   "source": [
    "### Results: Total pieces of trash per meter\n",
    "\n",
    "#### Cumulative results\n",
    "\n",
    "Reported as the total number of objects found, the cumulative and year over year results are given in the table below:\n",
    "\n",
    "| Statistic     | Year one | Year two | Year three | All   |   \n",
    "|--------------:|:--------:|:--------:|:----------:|:-----:|\n",
    "| __Samples__   | <span style=\"color:red\">83</span>       |41        |24          | 148   |\n",
    "| __mean__      | 8.77     |<span style=\"color:red\">9.99</span>      |9.01        | 9.16  |\n",
    "| __median__    | 4.83     |<span style=\"color:red\">6.84</span>     |4.24        | 5.52  |\n",
    "| __Std dev__   | 9.92     |8.52      |<span style=\"color:red\">16.14</span>      |10.75  |\n",
    "| __25\\%ile__   | 3.113    |<span style=\"color:red\">4.41</span>     |2.36        | 3.18  |\n",
    "| __75\\%ile__   | 10.405   |<span style=\"color:red\">12.35</span>    |7.79        | 11.24 | \n",
    "| __Minimum__   | 0.68   |0.57      |<span style=\"color:red\">0.11 </span>        | 0.11  | \n",
    "| __Maximum__   | 50.075   |39.54     |<span style=\"color:red\">77.05 </span>      | 77.05| \n",
    "| _MCBP samples_   |<span style=\"color:red\">80</span>  |<span style=\"color:red\">22</span>    |5   | <span style=\"color:red\">107</span>| \n",
    "| _SLR samples_   |0  |18    |<span style=\"color:red\">15</span>      | 33|\n",
    "| _EPFL samples_  |2 |2     |2| 6| \n",
    "| _PC samples_  | 0 |0   |2       | 2| \n",
    "\n",
    "Year two has the highest average, median and the greatest innerquartile range. The lowest and the highest daily values were reported in year three. In each year there is one group that collected at least 50% of all the samples.\n",
    "\n",
    "For each year the mean is greater than the median, suggesting a right skewed distribution. The mean and median are clossest at year two."
   ]
  },
  {
   "cell_type": "code",
   "execution_count": 6,
   "metadata": {
    "hide_input": false,
    "scrolled": true
   },
   "outputs": [],
   "source": [
    "daily_total_pcs_m = density[[\"project_id\",\"location_id\", \"py_date\", \"pcs_m\"]].groupby([\"project_id\",\"location_id\", \"py_date\"]).sum()\n",
    "\n",
    "end_date = datetime.datetime.strptime(\"2018-11-14\", \"%Y-%m-%d\")\n",
    "start_date = datetime.datetime.strptime(\"2015-11-15\", \"%Y-%m-%d\")\n",
    "daily_total_pcs_m = daily_total_pcs_m.loc[idx[:,:,start_date:end_date],:]\n",
    "\n",
    "daily_total_stats = daily_total_pcs_m.describe().to_dict()['pcs_m']\n",
    "project_names = daily_total_pcs_m.index.get_level_values(\"project_id\").unique()"
   ]
  },
  {
   "cell_type": "code",
   "execution_count": 7,
   "metadata": {},
   "outputs": [],
   "source": [
    "colors = [\n",
    "    \"midnightblue\",\n",
    "    \"darkblue\",\n",
    "    \"blue\",\n",
    "    \"darkslateblue\",\n",
    "    \"mediumpurple\",\n",
    "    \"blueviolet\",\n",
    "    \"darkorchid\",\n",
    "    \"mediumorchid\",\n",
    "    \"plum\",\n",
    "    \"purple\",\n",
    "    \"fuchsia\",\n",
    "    \"skyblue\",\n",
    "    \"steelblue\",\n",
    "    \"darkseagreen\",\n",
    "    \"lightgreen\",\n",
    "    \"chocolate\",\n",
    "    \"darkolivegreen\",\n",
    "    \"maroon\",\n",
    "    \"tomato\",\n",
    "    \"black\"\n",
    "]"
   ]
  },
  {
   "cell_type": "code",
   "execution_count": 8,
   "metadata": {
    "hide_input": false,
    "scrolled": true
   },
   "outputs": [],
   "source": [
    "# all the results \n",
    "data_all_dict = daily_total_pcs_m.to_dict()['pcs_m']\n",
    "data_all_list = list(data_all_dict.items())\n",
    "just_the_results_all = daily_total_pcs_m.pcs_m.values\n",
    "log_just_the_results_all = np.log(just_the_results_all)"
   ]
  },
  {
   "cell_type": "code",
   "execution_count": 9,
   "metadata": {
    "hide_input": false,
    "scrolled": false
   },
   "outputs": [
    {
     "data": {
      "image/png": "[encoded data removed]",
      "text/plain": [
       "<Figure size 432x576 with 1 Axes>"
      ]
     },
     "metadata": {
      "needs_background": "light"
     },
     "output_type": "display_data"
    }
   ],
   "source": [
    "title_color = \"black\"\n",
    "min_date = \"Nov-2015\"\n",
    "max_date = \"Nov-2018\"\n",
    "n_samples = len(daily_total_pcs_m[\"pcs_m\"].values)\n",
    "font_styles = {\n",
    "    'fontsize': 14,\n",
    "    'fontfamily':'sans-serif',\n",
    "    'fontweight' : 'normal',\n",
    "    'verticalalignment': 'baseline',\n",
    "    'horizontalalignment': 'center'\n",
    "}\n",
    "title = \"Histogram of pieces of trash per meter.\"\n",
    "sub_title = 'All samples {} - {}\\nLake Geneva, n={}.'.format( min_date, max_date, n_samples)\n",
    "MEAN = \"Average\"\n",
    "mean_y = 25\n",
    "MEDIAN = \"Median\"\n",
    "median_y = 30\n",
    "pad = 15\n",
    "\n",
    "# legend\n",
    "b_box = (1,0.9)\n",
    "frameAlpha=1\n",
    "frameEdgeColor=\"black\"\n",
    "loc=\"best\"\n",
    "# labels\n",
    "\n",
    "y_label_size = 16\n",
    "y_label_color = \"black\"\n",
    "y_label_padding = 15\n",
    "\n",
    "# annotate\n",
    "data_coords = (-0.2, 5.66)\n",
    "text_coords = (30, 35)\n",
    "mean_text_coords = (30, 30)\n",
    "connection_style=\"arc3, rad=0.3\"\n",
    "# plots\n",
    "opac=0.5\n",
    "marker_size = 10\n",
    "edge_color = \"#ffffff\"\n",
    "flierprops = dict(marker='o', markersize=6, markerfacecolor='black')\n",
    "# storing output\n",
    "file_prefix = my_folders[\"Charts\"]\n",
    "file_suffix = [\n",
    "    '.svg',\n",
    "    '.png',    \n",
    "]\n",
    "file_names=\"histoGramAllData\"\n",
    "\n",
    "color = \"wheat\"\n",
    "\n",
    "def makeHistDensity(an_array):\n",
    "    fig, ax = plt.subplots(figsize=(6,8))\n",
    "    ax.hist(an_array, bins='fd', alpha=0.6)\n",
    "    mean = np.mean(an_array)\n",
    "    median = np.median(an_array)\n",
    "    ax.axvline(mean, ls=\"--\", lw=2, color=\"fuchsia\")\n",
    "    ax.axvline(median, ls=\":\", lw=2, color='tomato')\n",
    "    ax.annotate(\n",
    "        MEDIAN,\n",
    "        xy=(median, median_y),\n",
    "        xycoords='data',\n",
    "        xytext= text_coords ,\n",
    "        textcoords='data',\n",
    "        horizontalalignment=\"center\",\n",
    "        fontsize=16,\n",
    "        arrowprops=dict(\n",
    "            arrowstyle=\"->\",\n",
    "            color='tomato',\n",
    "            connectionstyle=connection_style)\n",
    "        )\n",
    "    ax.annotate(\n",
    "        MEAN,\n",
    "        xy=(mean, mean_y),\n",
    "        xycoords='data',\n",
    "        xytext= mean_text_coords ,\n",
    "        textcoords='data',\n",
    "        horizontalalignment=\"center\",\n",
    "        fontsize=16,\n",
    "        arrowprops=dict(\n",
    "            arrowstyle=\"->\",\n",
    "            color=\"fuchsia\",\n",
    "            connectionstyle=connection_style)\n",
    "        )\n",
    "    plt.setp(ax.artists, edgecolor = 'k')\n",
    "    plt.ylabel('Frequency', labelpad=y_label_padding, color=y_label_color, size=y_label_size)\n",
    "    plt.xlabel('Pieces of trash per meter.', labelpad=y_label_padding, color=y_label_color, size=y_label_size)\n",
    "    plt.suptitle(title, fontfamily=\"sans-serif\", fontweight=\"roman\", fontsize=14, x=0.13, ha=\"left\", color=title_color)\n",
    "    plt.title(sub_title, fontdict=font_styles, pad=pad, x=0, ha=\"left\", color=title_color)\n",
    "    for x in file_suffix:\n",
    "        save_me = '{}/{}{}'.format(file_prefix, file_names, x)\n",
    "        plt.savefig(save_me, bbox_inches=\"tight\")     \n",
    "    plt.show()\n",
    "    plt.close()\n",
    "makeHistDensity(just_the_results_all)\n",
    " "
   ]
  },
  {
   "cell_type": "code",
   "execution_count": 10,
   "metadata": {},
   "outputs": [
    {
     "data": {
      "image/png": "[encoded data removed]",
      "text/plain": [
       "<Figure size 432x576 with 1 Axes>"
      ]
     },
     "metadata": {
      "needs_background": "light"
     },
     "output_type": "display_data"
    }
   ],
   "source": [
    "title_color = \"black\"\n",
    "min_date = \"Nov-2015\"\n",
    "max_date = \"Nov-2018\"\n",
    "n_samples = len(daily_total_pcs_m[\"pcs_m\"].values)\n",
    "font_styles = {\n",
    "    'fontsize': 14,\n",
    "    'fontfamily':'sans-serif',\n",
    "    'fontweight' : 'normal',\n",
    "    'verticalalignment': 'baseline',\n",
    "    'horizontalalignment': 'center'\n",
    "}\n",
    "title = \"Histogram of log(pieces of trash per meter).\"\n",
    "sub_title = 'All samples {} - {}\\nLake Geneva, n={}.'.format( min_date, max_date, n_samples)\n",
    "MEAN = \"Average\"\n",
    "mean_y = 25\n",
    "MEDIAN = \"Median\"\n",
    "median_y = 30\n",
    "pad = 15\n",
    "# legend\n",
    "b_box = (1,0.9)\n",
    "frameAlpha=1\n",
    "frameEdgeColor=\"black\"\n",
    "loc=\"best\"\n",
    "# labels\n",
    "# annotate\n",
    "text_coords = (-1, 30)\n",
    "mean_text_coords = (-1, 25)\n",
    "connection_style=\"arc3, rad=0.3\"\n",
    "# plots\n",
    "opac=0.5\n",
    "marker_size = 10\n",
    "edge_color = \"#ffffff\"\n",
    "\n",
    "# storing output\n",
    "file_names=\"logHistoGramAllData\"\n",
    "\n",
    "makeHistDensity(log_just_the_results_all)"
   ]
  },
  {
   "cell_type": "code",
   "execution_count": null,
   "metadata": {},
   "outputs": [],
   "source": [
    "def makeHistDensity(an_array):\n",
    "    this_x = sorted(an_array)\n",
    "    this_point =\n",
    "    fig, ax = plt.subplots(figsize=(6,8))\n",
    "    ax.plot(an_array, bins='fd', alpha=0.6)\n",
    "    mean = np.mean(an_array)\n",
    "    median = np.median(an_array)\n",
    "    ax.axvline(mean, ls=\"--\", lw=2, color=\"fuchsia\")\n",
    "    ax.axvline(median, ls=\":\", lw=2, color='tomato')\n",
    "    ax.annotate(\n",
    "        MEDIAN,\n",
    "        xy=(median, median_y),\n",
    "        xycoords='data',\n",
    "        xytext= text_coords ,\n",
    "        textcoords='data',\n",
    "        horizontalalignment=\"center\",\n",
    "        fontsize=16,\n",
    "        arrowprops=dict(\n",
    "            arrowstyle=\"->\",\n",
    "            color='tomato',\n",
    "            connectionstyle=connection_style)\n",
    "        )\n",
    "    ax.annotate(\n",
    "        MEAN,\n",
    "        xy=(mean, mean_y),\n",
    "        xycoords='data',\n",
    "        xytext= mean_text_coords ,\n",
    "        textcoords='data',\n",
    "        horizontalalignment=\"center\",\n",
    "        fontsize=16,\n",
    "        arrowprops=dict(\n",
    "            arrowstyle=\"->\",\n",
    "            color=\"fuchsia\",\n",
    "            connectionstyle=connection_style)\n",
    "        )\n",
    "    plt.setp(ax.artists, edgecolor = 'k')\n",
    "#     plt.setp(ax.lines, color='k')\n",
    "    plt.ylabel('Frequency', labelpad=y_label_padding, color=y_label_color, size=y_label_size)\n",
    "    plt.xlabel('Pieces of trash per meter.', labelpad=y_label_padding, color=y_label_color, size=y_label_size)\n",
    "    plt.suptitle(title, fontfamily=\"sans-serif\", fontweight=\"roman\", fontsize=14, x=0.13, ha=\"left\", color=title_color)\n",
    "    plt.title(sub_title, fontdict=font_styles, pad=pad, x=0, ha=\"left\", color=title_color)\n",
    "#     plt.legend(loc=loc, title=\"Samples per group\", bbox_to_anchor=b_box, framealpha=frameAlpha, edgecolor=frameEdgeColor)\n",
    "#     for x in file_suffix:\n",
    "#         save_me = '{}/{}{}'.format(file_prefix, file_names, x)\n",
    "#         plt.savefig(save_me, bbox_inches=\"tight\")  \n",
    "    plt.show()\n",
    "    plt.close()"
   ]
  },
  {
   "cell_type": "code",
   "execution_count": null,
   "metadata": {},
   "outputs": [],
   "source": []
  },
  {
   "cell_type": "code",
   "execution_count": null,
   "metadata": {},
   "outputs": [],
   "source": []
  }
 ],
 "metadata": {
  "hide_input": true,
  "kernelspec": {
   "display_name": "Python 3",
   "language": "python",
   "name": "python3"
  },
  "language_info": {
   "codemirror_mode": {
    "name": "ipython",
    "version": 3
   },
   "file_extension": ".py",
   "mimetype": "text/x-python",
   "name": "python",
   "nbconvert_exporter": "python",
   "pygments_lexer": "ipython3",
   "version": "3.7.0"
  }
 },
 "nbformat": 4,
 "nbformat_minor": 2
}
