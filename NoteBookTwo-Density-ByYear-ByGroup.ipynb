{
 "cells": [
  {
   "cell_type": "markdown",
   "metadata": {},
   "source": [
    "### Three year summary Lake Geneva\n",
    "\n",
    "#### Notebook 2\n",
    "\n",
    "__Purpose:__ Present an analysis method for survey results from beach litter inventories on Lake Geneva.\n",
    "\n",
    "__Background:__ This is in the context of the global movement to reduce plastic debris in the maritime environment. Riverine inputs are major contributors of plastic debris (and all types of refuse) to the oceans. This is an analysis of the data collected on the shores of Lake Geneva over a three year period. The maritime protocol was modified in very specific ways to adjust for the local geography and population density.\n",
    "\n",
    "#### Research question: Is this a representative sample ?\n",
    "\n",
    "##### from notebook one we can assume the following:\n",
    "\n",
    "1. The data was collected at different locations\n",
    "2. The data was collected by different groups of people\n",
    "3. For each year there is one group that collected 50% or more of the samples\n",
    "\n",
    "\n",
    "If sampling all the trash is not possibile, what if we sample as much as possible and see what that looks like? The following questions could be answered:\n",
    "\n",
    "1. What does the distribution of survey results look like?\n",
    "2. Do different groups of people produce different survey results?\n",
    "3. How different are the survey results from one location to another?\n",
    "4. What are the most abundant objects?\n",
    "5. How different are the survey results year over year?\n",
    "\n",
    "#### From Notebook 1 IMPORTANT!\n",
    "\n",
    "_In notebook one the conclusion was that the data has different geographic centers and those centers reflect different land use patterns._\n",
    "\n",
    "_The data is now local so it is allways best to run notebook one first_\n",
    "\n",
    "_This notebook and all subsequent use the directory establsihed in notebook one (see above)_\n",
    "\n"
   ]
  },
  {
   "cell_type": "code",
   "execution_count": 1,
   "metadata": {
    "hide_input": true,
    "scrolled": true
   },
   "outputs": [],
   "source": [
    "# import numpy as np\n",
    "import json\n",
    "import csv\n",
    "import datetime\n",
    "import collections\n",
    "# import pandas as pd\n",
    "import matplotlib as mpl\n",
    "import matplotlib.pyplot as plt\n",
    "import os\n",
    "import seaborn as sns\n",
    "import matplotlib.dates as mdates\n",
    "from matplotlib import colors as mcolors\n",
    "from matplotlib.ticker import MultipleLocator\n",
    "from matplotlib.patches import Patch\n",
    "from matplotlib.lines import Line2D\n",
    "from Utilities.utility_functions import *"
   ]
  },
  {
   "cell_type": "code",
   "execution_count": 2,
   "metadata": {
    "hide_input": true,
    "scrolled": true
   },
   "outputs": [
    {
     "name": "stdout",
     "output_type": "stream",
     "text": [
      "Directory already in place\n"
     ]
    }
   ],
   "source": [
    "# The data is off of the API at https://mwshovel.pythonanywhere.com/dirt/api_home.html \n",
    "# You will have the opportunity to save the data locally\n",
    "# get some file structures in place\n",
    "\n",
    "# Required variables:\n",
    "folders = [\"Data\", \"Charts\", \"Utilities\"]\n",
    "here = os.getcwd()\n",
    "\n",
    "# check for existing and if not make folders\n",
    "check_for_folders(folders, here)\n",
    "\n",
    "# make a dictionary to call path by directory name\n",
    "my_folders = make_folders(folders, here)"
   ]
  },
  {
   "cell_type": "markdown",
   "metadata": {
    "hide_input": true
   },
   "source": [
    "#### Read in the json data"
   ]
  },
  {
   "cell_type": "code",
   "execution_count": 3,
   "metadata": {
    "hide_input": true,
    "scrolled": true
   },
   "outputs": [],
   "source": [
    "# Read the JSON data in from local\n",
    "# there is no need to hit the server a million times\n",
    "\n",
    "# required variables\n",
    "the_jsons = [\n",
    "    '/home/mw-shovel/three_year_final/Data/beach_info.json',\n",
    "    '/home/mw-shovel/three_year_final/Data/all_data.json'\n",
    "]\n",
    "\n",
    "idx = pd.IndexSlice\n",
    "# all the survey results by code, location, date, project:\n",
    "my_survey_results = jsonFileGet(the_jsons[1])\n",
    "def changeProjectName(aList, otherList, projectName):\n",
    "    aNewList = []   \n",
    "    for eachDict in aList:       \n",
    "        if eachDict[\"location_id\"] in otherList:\n",
    "            eachDict['project_id'] = projectName\n",
    "            aNewList.append(eachDict)\n",
    "        else:\n",
    "            aNewList.append(eachDict)\n",
    "    return aNewList\n",
    "            \n",
    "location_list = [\"Plage-de-St-Sulpice\", \"Parc-des-Pierrettes\",  \"Tiger-duck-beach\", \"Saint-Sulpice\"]\n",
    "project_name = \"EPFL\"\n",
    "my_survey_resultsx = changeProjectName(my_survey_results, location_list, project_name)\n",
    "\n",
    "# all the location information:\n",
    "beach_info = jsonFileGet(the_jsons[0])\n",
    "\n",
    "# make a data frame:\n",
    "the_survey_results = pd.DataFrame(my_survey_resultsx)    "
   ]
  },
  {
   "cell_type": "markdown",
   "metadata": {},
   "source": [
    "#### Make pcs/m, make grouping levels"
   ]
  },
  {
   "cell_type": "code",
   "execution_count": 4,
   "metadata": {
    "hide_input": true,
    "scrolled": true
   },
   "outputs": [],
   "source": [
    "# making a pcs/m column:\n",
    "\n",
    "the_survey_results[\"pcs_m\"] = the_survey_results[\"quantity\"]/the_survey_results[\"length\"]\n",
    "\n",
    "# making a month, day and year column from a datetime object\n",
    "# makes sorting easier\n",
    "the_survey_results[\"py_date\"] = pd.to_datetime(the_survey_results[\"date\"])\n",
    "the_survey_results[\"py_month\"] = the_survey_results[\"py_date\"].dt.month\n",
    "the_survey_results[\"py_year\"] = the_survey_results[\"py_date\"].dt.year\n",
    "the_survey_results[\"py_day\"] = the_survey_results[\"py_date\"].dt.weekday"
   ]
  },
  {
   "cell_type": "code",
   "execution_count": 5,
   "metadata": {
    "hide_input": true,
    "scrolled": true
   },
   "outputs": [],
   "source": [
    "#### one df for abundance and one df for density:\n",
    "abundance = the_survey_results[[\"project_id\", \"location_id\", \"date\",\"py_date\", \"py_month\", \"py_year\", \"code_id\", \"quantity\"]].copy()\n",
    "density = the_survey_results[[\"project_id\", \"location_id\", \"date\",\"py_date\", \"py_day\",\"py_month\", \"py_year\", \"code_id\", \"pcs_m\"]].copy()  "
   ]
  },
  {
   "cell_type": "markdown",
   "metadata": {},
   "source": [
    "### Results: Total pieces of trash per meter\n",
    "\n",
    "#### Cumulative results\n",
    "\n",
    "Reported as the total number of objects found, the cumulative and year over year results are given in the table below:\n",
    "\n",
    "| Statistic     | Year one | Year two | Year three | All   |   \n",
    "|--------------:|:--------:|:--------:|:----------:|:-----:|\n",
    "| __Samples__   | <span style=\"color:red\">83</span>       |41        |24          | 148   |\n",
    "| __mean__      | 8.77     |<span style=\"color:red\">9.99</span>      |9.01        | 9.16  |\n",
    "| __median__    | 4.83     |<span style=\"color:red\">6.84</span>     |4.24        | 5.52  |\n",
    "| __Std dev__   | 9.92     |8.52      |<span style=\"color:red\">16.14</span>      |10.75  |\n",
    "| __25\\%ile__   | 3.113    |<span style=\"color:red\">4.41</span>     |2.36        | 3.18  |\n",
    "| __75\\%ile__   | 10.405   |<span style=\"color:red\">12.35</span>    |7.79        | 11.24 | \n",
    "| __Minimum__   | 0.68   |0.57      |<span style=\"color:red\">0.11 </span>        | 0.11  | \n",
    "| __Maximum__   | 50.075   |39.54     |<span style=\"color:red\">77.05 </span>      | 77.05| \n",
    "| _MCBP samples_   |<span style=\"color:red\">80</span>  |<span style=\"color:red\">22</span>    |5   | <span style=\"color:red\">107</span>| \n",
    "| _SLR samples_   |0  |18    |<span style=\"color:red\">15</span>      | 33|\n",
    "| _EPFL samples_  |2 |2     |2| 6| \n",
    "| _PC samples_  | 0 |0   |2       | 2| \n",
    "\n",
    "Year two has the highest average, median and the greatest innerquartile range. The lowest and the highest daily values were reported in year three. In each year there is one group that collected at least 50% of all the samples.\n",
    "\n",
    "For each year the mean is greater than the median, suggesting a right skewed distribution. The mean and median are clossest at year two."
   ]
  },
  {
   "cell_type": "code",
   "execution_count": 6,
   "metadata": {
    "hide_input": false,
    "scrolled": true
   },
   "outputs": [],
   "source": [
    "daily_total_pcs_m = density[[\"project_id\",\"location_id\", \"py_date\", \"pcs_m\"]].groupby([\"project_id\",\"location_id\", \"py_date\"]).sum()\n",
    "\n",
    "end_date = datetime.datetime.strptime(\"2018-11-14\", \"%Y-%m-%d\")\n",
    "start_date = datetime.datetime.strptime(\"2015-11-15\", \"%Y-%m-%d\")\n",
    "daily_total_pcs_m = daily_total_pcs_m.loc[idx[:,:,start_date:end_date],:]\n",
    "\n",
    "daily_total_stats = daily_total_pcs_m.describe().to_dict()['pcs_m']\n",
    "project_names = daily_total_pcs_m.index.get_level_values(\"project_id\").unique()"
   ]
  },
  {
   "cell_type": "code",
   "execution_count": 7,
   "metadata": {
    "hide_input": false,
    "scrolled": true
   },
   "outputs": [],
   "source": [
    "data_all_dict = daily_total_pcs_m.to_dict()['pcs_m']\n",
    "data_all_list = list(data_all_dict.items())"
   ]
  },
  {
   "cell_type": "code",
   "execution_count": 8,
   "metadata": {
    "hide_input": false,
    "scrolled": true
   },
   "outputs": [],
   "source": [
    "# required variables\n",
    "x = [1 for x in data_all_list]\n",
    "y = [x[1] for x in data_all_list]\n",
    "# y axis \n",
    "y_limit = max(y)\n",
    "y_max = y_limit + 2\n",
    "\n",
    "# title and sup title\n",
    "title_color = \"black\"\n",
    "min_date = \"Nov-2015\"\n",
    "max_date = \"Nov-2018\"\n",
    "n_samples = len(daily_total_pcs_m[\"pcs_m\"].values)\n",
    "font_styles = {\n",
    "    'fontsize': 12,\n",
    "    'fontfamily':'sans-serif',\n",
    "    'fontweight' : 'normal',\n",
    "    'verticalalignment': 'baseline',\n",
    "    'horizontalalignment': 'center'\n",
    "}\n",
    "title = \"Pieces of trash per meter\"\n",
    "sub_title = 'All samples {} - {}\\nLake Geneva, n={}'.format( min_date, max_date, n_samples)\n",
    "IQR = \"IQR of all data\"\n",
    "pad = 15\n",
    "\n",
    "# legend\n",
    "b_box = (1,0.9)\n",
    "frameAlpha=1\n",
    "frameEdgeColor=\"black\"\n",
    "loc=\"best\"\n",
    "# labels\n",
    "\n",
    "y_label_size = 12\n",
    "y_label_color = \"black\"\n",
    "y_label_padding = 15\n",
    "\n",
    "# annotate\n",
    "data_coords = (-0.2, 5.66)\n",
    "text_coords = (-0.25, 35)\n",
    "connection_style=\"arc3, rad=0.3\"\n",
    "# plots\n",
    "opac=0.5\n",
    "marker_size = 10\n",
    "edge_color = \"#ffffff\"\n",
    "flierprops = dict(marker='o', markersize=6, markerfacecolor='black')\n",
    "# storing output\n",
    "file_prefix = my_folders[\"Charts\"]\n",
    "file_suffix = [\n",
    "    '.svg',\n",
    "    '.png',    \n",
    "]\n",
    "file_names=\"boxPlotAllData\"\n",
    "\n",
    "# category colors\n",
    "PROJECT_COLORS = [\n",
    "    \"indigo\",\n",
    "    \"darkcyan\",\n",
    "    \"olive\",\n",
    "    \"darkred\",\n",
    "    \n",
    "]\n",
    "project_colors = dict(zip(project_names, PROJECT_COLORS))\n",
    "color = \"wheat\"\n",
    "# box plot stuff\n",
    "sat = 1\n",
    "l_width = 1\n",
    "\n",
    "\n",
    "def makeBoxPlots(y,aDf, project_names):   \n",
    "    fig, ax = plt.subplots(figsize=(4, 7))\n",
    "    ax = sns.boxplot(y, orient='v', saturation=sat, linewidth=l_width, color= color, flierprops=flierprops)\n",
    "    for project in project_names:       \n",
    "        this_y = aDf.loc[project]['pcs_m'].values\n",
    "        the_count = len(this_y)\n",
    "        this_x = [1 for x in this_y]\n",
    "       \n",
    "        ax = sns.stripplot(x=this_x, y=this_y, jitter=True, label='{}: {}'.format(project, the_count), size=marker_size, color=project_colors[project], linewidth=1,edgecolor=edge_color)\n",
    "    ax.margins(0.05)  \n",
    "    ax.set_xticks([])\n",
    "    ax.annotate(\n",
    "        IQR,\n",
    "        xy=data_coords,\n",
    "        xycoords='data',\n",
    "        xytext= text_coords ,\n",
    "        textcoords='data',\n",
    "        horizontalalignment=\"center\",\n",
    "        fontsize=12,\n",
    "        arrowprops=dict(\n",
    "            arrowstyle=\"->\",\n",
    "            connectionstyle=connection_style)\n",
    "        )\n",
    "    plt.setp(ax.artists, edgecolor = 'k')\n",
    "    plt.setp(ax.lines, color='k')\n",
    "    plt.subplots_adjust(top=0.85)\n",
    "    plt.ylabel('Pieces of trash per meter', labelpad=y_label_padding, color=y_label_color, size=y_label_size)\n",
    "    plt.yticks(np.arange(0, y_max, step=10))\n",
    "    plt.xticks([])\n",
    "    plt.ylim(-1, y_max)\n",
    "    plt.suptitle(title, fontfamily=\"sans-serif\", fontweight=\"roman\", fontsize=14, x=0.13, ha=\"left\", color=title_color)\n",
    "    plt.title(sub_title, fontdict=font_styles, pad=pad, x=0, ha=\"left\", color=title_color)\n",
    "    plt.legend(loc=loc, title=\"Samples per group\", bbox_to_anchor=b_box, framealpha=frameAlpha, edgecolor=frameEdgeColor)\n",
    "    for x in file_suffix:\n",
    "        save_me = '{}/{}{}'.format(file_prefix, file_names, x)\n",
    "        plt.savefig(save_me, bbox_inches=\"tight\")  \n",
    "    \n",
    "    plt.show()\n",
    "    plt.close()  \n",
    "    \n",
    "def makeBoxPlot(y,aDf, project_names):   \n",
    "    makeBoxPlots(y,aDf, project_names)\n",
    "\n",
    " "
   ]
  },
  {
   "cell_type": "markdown",
   "metadata": {},
   "source": [
    "### All data Nov 2015 - Nov 2018: mean, median, count..."
   ]
  },
  {
   "cell_type": "code",
   "execution_count": 9,
   "metadata": {
    "hide_input": true,
    "scrolled": true
   },
   "outputs": [
    {
     "data": {
      "text/html": [
       "<div>\n",
       "<style scoped>\n",
       "    .dataframe tbody tr th:only-of-type {\n",
       "        vertical-align: middle;\n",
       "    }\n",
       "\n",
       "    .dataframe tbody tr th {\n",
       "        vertical-align: top;\n",
       "    }\n",
       "\n",
       "    .dataframe thead th {\n",
       "        text-align: right;\n",
       "    }\n",
       "</style>\n",
       "<table border=\"1\" class=\"dataframe\">\n",
       "  <thead>\n",
       "    <tr style=\"text-align: right;\">\n",
       "      <th></th>\n",
       "      <th>pcs_m</th>\n",
       "    </tr>\n",
       "  </thead>\n",
       "  <tbody>\n",
       "    <tr>\n",
       "      <th>count</th>\n",
       "      <td>148.000000</td>\n",
       "    </tr>\n",
       "    <tr>\n",
       "      <th>mean</th>\n",
       "      <td>9.160844</td>\n",
       "    </tr>\n",
       "    <tr>\n",
       "      <th>std</th>\n",
       "      <td>10.752655</td>\n",
       "    </tr>\n",
       "    <tr>\n",
       "      <th>min</th>\n",
       "      <td>0.117647</td>\n",
       "    </tr>\n",
       "    <tr>\n",
       "      <th>25%</th>\n",
       "      <td>3.183535</td>\n",
       "    </tr>\n",
       "    <tr>\n",
       "      <th>50%</th>\n",
       "      <td>5.526347</td>\n",
       "    </tr>\n",
       "    <tr>\n",
       "      <th>75%</th>\n",
       "      <td>11.240594</td>\n",
       "    </tr>\n",
       "    <tr>\n",
       "      <th>max</th>\n",
       "      <td>77.055556</td>\n",
       "    </tr>\n",
       "  </tbody>\n",
       "</table>\n",
       "</div>"
      ],
      "text/plain": [
       "            pcs_m\n",
       "count  148.000000\n",
       "mean     9.160844\n",
       "std     10.752655\n",
       "min      0.117647\n",
       "25%      3.183535\n",
       "50%      5.526347\n",
       "75%     11.240594\n",
       "max     77.055556"
      ]
     },
     "execution_count": 9,
     "metadata": {},
     "output_type": "execute_result"
    }
   ],
   "source": [
    "daily_total_pcs_m.describe()"
   ]
  },
  {
   "cell_type": "code",
   "execution_count": 10,
   "metadata": {
    "hide_input": true,
    "scrolled": false
   },
   "outputs": [
    {
     "data": {
      "image/png": "[encoded data removed]",
      "text/plain": [
       "<Figure size 288x504 with 1 Axes>"
      ]
     },
     "metadata": {
      "needs_background": "light"
     },
     "output_type": "display_data"
    }
   ],
   "source": [
    "makeBoxPlot(y,daily_total_pcs_m, project_names)  "
   ]
  },
  {
   "cell_type": "markdown",
   "metadata": {},
   "source": [
    "### Year one: Nov 2015 - Nov 2016"
   ]
  },
  {
   "cell_type": "code",
   "execution_count": 11,
   "metadata": {
    "hide_input": false,
    "scrolled": true
   },
   "outputs": [],
   "source": [
    "# index of d_t_p_m [\"project_id\",\"py_year\",\"location_id\", \"py_date\"]\n",
    "start_end = convertStringToDate([(\"2015-11-15\", \"2016-11-14\")])\n",
    "year_one = daily_total_pcs_m.loc[idx[:,:,start_end[0][0]:start_end[0][1]], :]\n",
    "project_names = year_one.index.get_level_values(\"project_id\").unique()"
   ]
  },
  {
   "cell_type": "code",
   "execution_count": 12,
   "metadata": {
    "hide_input": false,
    "scrolled": true
   },
   "outputs": [],
   "source": [
    "year_one_dict = year_one.to_dict()['pcs_m']\n",
    "year_one_list = list(year_one_dict.items())"
   ]
  },
  {
   "cell_type": "code",
   "execution_count": 13,
   "metadata": {
    "hide_input": false,
    "scrolled": true
   },
   "outputs": [],
   "source": [
    "# required variables\n",
    "x = [1 for x in year_one_list]\n",
    "y = [x[1] for x in year_one_list]\n",
    "# y axis \n",
    "y_limit = max(y)\n",
    "y_max = y_limit + 2\n",
    "# title and sup title\n",
    "title_color = \"black\"\n",
    "min_date = \"Nov-2015\"\n",
    "max_date = \"Nov-2016\"\n",
    "n_samples = len(year_one)\n",
    "font_styles = {\n",
    "    'fontsize': 12,\n",
    "    'fontfamily':'sans-serif',\n",
    "    'fontweight' : 'normal',\n",
    "    'verticalalignment': 'baseline',\n",
    "    'horizontalalignment': 'center'\n",
    "}\n",
    "title = \"Year one trash per meter\"\n",
    "sub_title = '{} - {}\\nLake Geneva, n={}'.format( min_date, max_date, n_samples)\n",
    "IQR = \"IQR year one\"\n",
    "# legend\n",
    "b_box = (.5,0.93)\n",
    "loc=\"upper left\"\n",
    "# labels\n",
    "\n",
    "y_label_size = 12\n",
    "y_label_color = \"black\"\n",
    "y_label_padding = 15\n",
    "# annotate\n",
    "data_coords = (-0.2, 4.832864)\n",
    "text_coords = (-0.25, 30)\n",
    "connection_style=\"arc3, rad=0.3\"\n",
    "# plots\n",
    "opac=0.5\n",
    "marker_size = 10\n",
    "edge_color = \"#ffffff\"\n",
    "flierprops = dict(marker='o', markersize=6, markerfacecolor='black')\n",
    "file_names=\"boxPlotYearOne\""
   ]
  },
  {
   "cell_type": "code",
   "execution_count": 14,
   "metadata": {
    "hide_input": true,
    "scrolled": true
   },
   "outputs": [
    {
     "data": {
      "text/html": [
       "<div>\n",
       "<style scoped>\n",
       "    .dataframe tbody tr th:only-of-type {\n",
       "        vertical-align: middle;\n",
       "    }\n",
       "\n",
       "    .dataframe tbody tr th {\n",
       "        vertical-align: top;\n",
       "    }\n",
       "\n",
       "    .dataframe thead th {\n",
       "        text-align: right;\n",
       "    }\n",
       "</style>\n",
       "<table border=\"1\" class=\"dataframe\">\n",
       "  <thead>\n",
       "    <tr style=\"text-align: right;\">\n",
       "      <th></th>\n",
       "      <th>pcs_m</th>\n",
       "    </tr>\n",
       "  </thead>\n",
       "  <tbody>\n",
       "    <tr>\n",
       "      <th>count</th>\n",
       "      <td>83.000000</td>\n",
       "    </tr>\n",
       "    <tr>\n",
       "      <th>mean</th>\n",
       "      <td>8.708838</td>\n",
       "    </tr>\n",
       "    <tr>\n",
       "      <th>std</th>\n",
       "      <td>9.882661</td>\n",
       "    </tr>\n",
       "    <tr>\n",
       "      <th>min</th>\n",
       "      <td>0.681159</td>\n",
       "    </tr>\n",
       "    <tr>\n",
       "      <th>25%</th>\n",
       "      <td>3.149679</td>\n",
       "    </tr>\n",
       "    <tr>\n",
       "      <th>50%</th>\n",
       "      <td>4.796875</td>\n",
       "    </tr>\n",
       "    <tr>\n",
       "      <th>75%</th>\n",
       "      <td>10.155738</td>\n",
       "    </tr>\n",
       "    <tr>\n",
       "      <th>max</th>\n",
       "      <td>50.075000</td>\n",
       "    </tr>\n",
       "  </tbody>\n",
       "</table>\n",
       "</div>"
      ],
      "text/plain": [
       "           pcs_m\n",
       "count  83.000000\n",
       "mean    8.708838\n",
       "std     9.882661\n",
       "min     0.681159\n",
       "25%     3.149679\n",
       "50%     4.796875\n",
       "75%    10.155738\n",
       "max    50.075000"
      ]
     },
     "execution_count": 14,
     "metadata": {},
     "output_type": "execute_result"
    }
   ],
   "source": [
    "year_one.describe()"
   ]
  },
  {
   "cell_type": "code",
   "execution_count": 15,
   "metadata": {
    "hide_input": true,
    "scrolled": false
   },
   "outputs": [
    {
     "data": {
      "image/png": "[encoded data removed]",
      "text/plain": [
       "<Figure size 288x504 with 1 Axes>"
      ]
     },
     "metadata": {
      "needs_background": "light"
     },
     "output_type": "display_data"
    }
   ],
   "source": [
    "makeBoxPlot(y,year_one, project_names)"
   ]
  },
  {
   "cell_type": "markdown",
   "metadata": {},
   "source": [
    "### Year two: Nov 2016 - Nov 2017"
   ]
  },
  {
   "cell_type": "code",
   "execution_count": 16,
   "metadata": {
    "hide_input": false,
    "scrolled": true
   },
   "outputs": [],
   "source": [
    "# index of d_t_p_m [\"project_id\",\"py_year\",\"location_id\", \"py_date\"]\n",
    "start_end = convertStringToDate([(\"2016-11-15\", \"2017-11-14\")])\n",
    "year_two = daily_total_pcs_m.loc[idx[:,:,start_end[0][0]:start_end[0][1]], :]\n",
    "project_names = year_two.index.get_level_values(\"project_id\").unique()"
   ]
  },
  {
   "cell_type": "code",
   "execution_count": 17,
   "metadata": {
    "hide_input": false,
    "scrolled": true
   },
   "outputs": [],
   "source": [
    "year_two_dict = year_two.to_dict()['pcs_m']\n",
    "year_two_list = list(year_two_dict.items())"
   ]
  },
  {
   "cell_type": "code",
   "execution_count": 18,
   "metadata": {
    "hide_input": true,
    "scrolled": true
   },
   "outputs": [],
   "source": [
    "# required variables\n",
    "x = [1 for x in year_two_list]\n",
    "y = [x[1] for x in year_two_list]\n",
    "# y axis \n",
    "y_limit = max(y)\n",
    "y_max = y_limit + 2\n",
    "\n",
    "# title and sup title\n",
    "title_color = \"black\"\n",
    "min_date = \"Nov-2016\"\n",
    "max_date = \"Nov-2017\"\n",
    "n_samples = len(year_two)\n",
    "font_styles = {\n",
    "    'fontsize': 12,\n",
    "    'fontfamily':'sans-serif',\n",
    "    'fontweight' : 'normal',\n",
    "    'verticalalignment': 'baseline',\n",
    "    'horizontalalignment': 'center'\n",
    "}\n",
    "title = \"Year two trash per meter\"\n",
    "sub_title = '{} - {}\\nLake Geneva, n={}'.format( min_date, max_date, n_samples)\n",
    "IQR = \"IQR year two\"\n",
    "# legend\n",
    "b_box = (.5,0.93)\n",
    "loc=\"upper left\"\n",
    "# labels\n",
    "y_label_size = 12\n",
    "y_label_color = \"black\"\n",
    "y_label_padding = 15\n",
    "# annotate\n",
    "data_coords = (-0.2, 6.84)\n",
    "text_coords = (-0.25, 30)\n",
    "connection_style=\"arc3, rad=0.3\"\n",
    "# plots\n",
    "opac=0.5\n",
    "marker_size = 10\n",
    "edge_color = \"#ffffff\"\n",
    "flierprops = dict(marker='o', markersize=6, markerfacecolor='black')\n",
    "file_names=\"boxPlotYearTwo\""
   ]
  },
  {
   "cell_type": "code",
   "execution_count": 19,
   "metadata": {
    "hide_input": true,
    "scrolled": true
   },
   "outputs": [
    {
     "data": {
      "text/html": [
       "<div>\n",
       "<style scoped>\n",
       "    .dataframe tbody tr th:only-of-type {\n",
       "        vertical-align: middle;\n",
       "    }\n",
       "\n",
       "    .dataframe tbody tr th {\n",
       "        vertical-align: top;\n",
       "    }\n",
       "\n",
       "    .dataframe thead th {\n",
       "        text-align: right;\n",
       "    }\n",
       "</style>\n",
       "<table border=\"1\" class=\"dataframe\">\n",
       "  <thead>\n",
       "    <tr style=\"text-align: right;\">\n",
       "      <th></th>\n",
       "      <th>pcs_m</th>\n",
       "    </tr>\n",
       "  </thead>\n",
       "  <tbody>\n",
       "    <tr>\n",
       "      <th>count</th>\n",
       "      <td>41.000000</td>\n",
       "    </tr>\n",
       "    <tr>\n",
       "      <th>mean</th>\n",
       "      <td>10.158769</td>\n",
       "    </tr>\n",
       "    <tr>\n",
       "      <th>std</th>\n",
       "      <td>8.569256</td>\n",
       "    </tr>\n",
       "    <tr>\n",
       "      <th>min</th>\n",
       "      <td>0.576471</td>\n",
       "    </tr>\n",
       "    <tr>\n",
       "      <th>25%</th>\n",
       "      <td>5.666667</td>\n",
       "    </tr>\n",
       "    <tr>\n",
       "      <th>50%</th>\n",
       "      <td>6.857143</td>\n",
       "    </tr>\n",
       "    <tr>\n",
       "      <th>75%</th>\n",
       "      <td>12.387097</td>\n",
       "    </tr>\n",
       "    <tr>\n",
       "      <th>max</th>\n",
       "      <td>39.540541</td>\n",
       "    </tr>\n",
       "  </tbody>\n",
       "</table>\n",
       "</div>"
      ],
      "text/plain": [
       "           pcs_m\n",
       "count  41.000000\n",
       "mean   10.158769\n",
       "std     8.569256\n",
       "min     0.576471\n",
       "25%     5.666667\n",
       "50%     6.857143\n",
       "75%    12.387097\n",
       "max    39.540541"
      ]
     },
     "execution_count": 19,
     "metadata": {},
     "output_type": "execute_result"
    }
   ],
   "source": [
    "year_two.describe()"
   ]
  },
  {
   "cell_type": "code",
   "execution_count": 20,
   "metadata": {
    "hide_input": true,
    "scrolled": false
   },
   "outputs": [
    {
     "data": {
      "image/png": "[encoded data removed]",
      "text/plain": [
       "<Figure size 288x504 with 1 Axes>"
      ]
     },
     "metadata": {
      "needs_background": "light"
     },
     "output_type": "display_data"
    }
   ],
   "source": [
    "makeBoxPlot(y,year_two, project_names)"
   ]
  },
  {
   "cell_type": "markdown",
   "metadata": {},
   "source": [
    "### Year three: Nov 2017 - Nov 2018"
   ]
  },
  {
   "cell_type": "code",
   "execution_count": 21,
   "metadata": {
    "hide_input": true,
    "scrolled": true
   },
   "outputs": [],
   "source": [
    "# index of d_t_p_m [\"project_id\",\"py_year\",\"location_id\", \"py_date\"]\n",
    "start_end = convertStringToDate([(\"2017-11-15\", \"2018-11-14\")])\n",
    "year_three = daily_total_pcs_m.loc[idx[:,:,start_end[0][0]:start_end[0][1]], :]\n",
    "project_names = year_three.index.get_level_values(\"project_id\").unique()"
   ]
  },
  {
   "cell_type": "code",
   "execution_count": 22,
   "metadata": {
    "hide_input": true,
    "scrolled": true
   },
   "outputs": [],
   "source": [
    "year_three_dict = year_three.to_dict()['pcs_m']\n",
    "year_three_list = list(year_three_dict.items())"
   ]
  },
  {
   "cell_type": "code",
   "execution_count": 23,
   "metadata": {
    "hide_input": true,
    "scrolled": true
   },
   "outputs": [],
   "source": [
    "# required variables\n",
    "x = [1 for x in year_three_list]\n",
    "y = [x[1] for x in year_three_list]\n",
    "# y axis \n",
    "y_limit = max(y)\n",
    "y_max = y_limit + 2\n",
    "# title and sup title\n",
    "title_color = \"black\"\n",
    "min_date = \"Nov-2017\"\n",
    "max_date = \"Nov-2018\"\n",
    "n_samples = len(year_three)\n",
    "font_styles = {\n",
    "    'fontsize': 12,\n",
    "    'fontfamily':'sans-serif',\n",
    "    'fontweight' : 'normal',\n",
    "    'verticalalignment': 'baseline',\n",
    "    'horizontalalignment': 'center'\n",
    "}\n",
    "title = \"Year three trash per meter\"\n",
    "sub_title = '{} - {}\\nLake Geneva, n={}'.format( min_date, max_date, n_samples)\n",
    "IQR = \"IQR year three\"\n",
    "# legend\n",
    "b_box = (.25,0.93)\n",
    "loc=\"upper left\"\n",
    "# labels\n",
    "y_label_size = 12\n",
    "y_label_color = \"black\"\n",
    "y_label_padding = 15\n",
    "# annotate\n",
    "data_coords = (-0.2, 4.24)\n",
    "text_coords = (-0.25, 45)\n",
    "connection_style=\"arc3, rad=0.3\"\n",
    "# plots\n",
    "opac=0.5\n",
    "marker_size = 10\n",
    "edge_color = \"#ffffff\"\n",
    "flierprops = dict(marker='o', markersize=6, markerfacecolor='black')\n",
    "file_names=\"boxPlotYearThree\""
   ]
  },
  {
   "cell_type": "code",
   "execution_count": 24,
   "metadata": {
    "hide_input": false,
    "scrolled": true
   },
   "outputs": [
    {
     "data": {
      "text/html": [
       "<div>\n",
       "<style scoped>\n",
       "    .dataframe tbody tr th:only-of-type {\n",
       "        vertical-align: middle;\n",
       "    }\n",
       "\n",
       "    .dataframe tbody tr th {\n",
       "        vertical-align: top;\n",
       "    }\n",
       "\n",
       "    .dataframe thead th {\n",
       "        text-align: right;\n",
       "    }\n",
       "</style>\n",
       "<table border=\"1\" class=\"dataframe\">\n",
       "  <thead>\n",
       "    <tr style=\"text-align: right;\">\n",
       "      <th></th>\n",
       "      <th>pcs_m</th>\n",
       "    </tr>\n",
       "  </thead>\n",
       "  <tbody>\n",
       "    <tr>\n",
       "      <th>count</th>\n",
       "      <td>24.000000</td>\n",
       "    </tr>\n",
       "    <tr>\n",
       "      <th>mean</th>\n",
       "      <td>9.019244</td>\n",
       "    </tr>\n",
       "    <tr>\n",
       "      <th>std</th>\n",
       "      <td>16.140460</td>\n",
       "    </tr>\n",
       "    <tr>\n",
       "      <th>min</th>\n",
       "      <td>0.117647</td>\n",
       "    </tr>\n",
       "    <tr>\n",
       "      <th>25%</th>\n",
       "      <td>2.366757</td>\n",
       "    </tr>\n",
       "    <tr>\n",
       "      <th>50%</th>\n",
       "      <td>4.244992</td>\n",
       "    </tr>\n",
       "    <tr>\n",
       "      <th>75%</th>\n",
       "      <td>7.791667</td>\n",
       "    </tr>\n",
       "    <tr>\n",
       "      <th>max</th>\n",
       "      <td>77.055556</td>\n",
       "    </tr>\n",
       "  </tbody>\n",
       "</table>\n",
       "</div>"
      ],
      "text/plain": [
       "           pcs_m\n",
       "count  24.000000\n",
       "mean    9.019244\n",
       "std    16.140460\n",
       "min     0.117647\n",
       "25%     2.366757\n",
       "50%     4.244992\n",
       "75%     7.791667\n",
       "max    77.055556"
      ]
     },
     "execution_count": 24,
     "metadata": {},
     "output_type": "execute_result"
    }
   ],
   "source": [
    "year_three.describe()"
   ]
  },
  {
   "cell_type": "code",
   "execution_count": 25,
   "metadata": {
    "scrolled": false
   },
   "outputs": [
    {
     "data": {
      "image/png": "[encoded data removed]",
      "text/plain": [
       "<Figure size 288x504 with 1 Axes>"
      ]
     },
     "metadata": {
      "needs_background": "light"
     },
     "output_type": "display_data"
    }
   ],
   "source": [
    "makeBoxPlot(y,year_three, project_names)"
   ]
  },
  {
   "cell_type": "code",
   "execution_count": null,
   "metadata": {},
   "outputs": [],
   "source": []
  }
 ],
 "metadata": {
  "hide_input": false,
  "kernelspec": {
   "display_name": "Python 3",
   "language": "python",
   "name": "python3"
  },
  "language_info": {
   "codemirror_mode": {
    "name": "ipython",
    "version": 3
   },
   "file_extension": ".py",
   "mimetype": "text/x-python",
   "name": "python",
   "nbconvert_exporter": "python",
   "pygments_lexer": "ipython3",
   "version": "3.7.0"
  }
 },
 "nbformat": 4,
 "nbformat_minor": 2
}
